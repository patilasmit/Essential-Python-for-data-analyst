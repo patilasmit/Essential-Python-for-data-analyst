{
 "cells": [
  {
   "cell_type": "code",
   "execution_count": 158,
   "id": "d2d07951-aab7-4683-b7af-86db98c0dda1",
   "metadata": {},
   "outputs": [],
   "source": [
    "import numpy as np "
   ]
  },
  {
   "cell_type": "code",
   "execution_count": 2,
   "id": "d7456db7-0687-4818-be7e-e0f8466e9086",
   "metadata": {},
   "outputs": [],
   "source": [
    "arr1 = np.array([11,21,31,41,49])"
   ]
  },
  {
   "cell_type": "code",
   "execution_count": 3,
   "id": "27b8fcc7-e308-43ea-a490-e378059a52b5",
   "metadata": {},
   "outputs": [
    {
     "data": {
      "text/plain": [
       "array([11, 21, 31, 41, 49])"
      ]
     },
     "execution_count": 3,
     "metadata": {},
     "output_type": "execute_result"
    }
   ],
   "source": [
    "arr1"
   ]
  },
  {
   "cell_type": "code",
   "execution_count": 25,
   "id": "fe48f833-aafb-41b0-8fb6-c49527760a16",
   "metadata": {},
   "outputs": [
    {
     "data": {
      "text/plain": [
       "1"
      ]
     },
     "execution_count": 25,
     "metadata": {},
     "output_type": "execute_result"
    }
   ],
   "source": [
    "arr1.ndim"
   ]
  },
  {
   "cell_type": "code",
   "execution_count": 5,
   "id": "28673232-1b1d-4a06-8269-3967daef6643",
   "metadata": {},
   "outputs": [],
   "source": [
    "arr2 = np.array([[1,9,21],[29,41,51],[58,72,8]])"
   ]
  },
  {
   "cell_type": "code",
   "execution_count": 6,
   "id": "ad3e383b-d05b-49e3-bcf1-25313138d714",
   "metadata": {},
   "outputs": [
    {
     "data": {
      "text/plain": [
       "array([[ 1,  9, 21],\n",
       "       [29, 41, 51],\n",
       "       [58, 72,  8]])"
      ]
     },
     "execution_count": 6,
     "metadata": {},
     "output_type": "execute_result"
    }
   ],
   "source": [
    "arr2"
   ]
  },
  {
   "cell_type": "code",
   "execution_count": 26,
   "id": "93c63863-0788-48a0-ad3d-3505a464a467",
   "metadata": {},
   "outputs": [
    {
     "data": {
      "text/plain": [
       "2"
      ]
     },
     "execution_count": 26,
     "metadata": {},
     "output_type": "execute_result"
    }
   ],
   "source": [
    "arr2.ndim"
   ]
  },
  {
   "cell_type": "code",
   "execution_count": 7,
   "id": "f4d372f0-1f04-4e0d-ab6f-9844d60d3c4d",
   "metadata": {},
   "outputs": [],
   "source": [
    "arr3 = np.array([[15,7,10,-11,20,75],[-3,9,24,1,100,-14]])"
   ]
  },
  {
   "cell_type": "code",
   "execution_count": 8,
   "id": "a187d5b5-76c2-4a3d-ac8b-a86df092771f",
   "metadata": {},
   "outputs": [
    {
     "data": {
      "text/plain": [
       "array([[ 15,   7,  10, -11,  20,  75],\n",
       "       [ -3,   9,  24,   1, 100, -14]])"
      ]
     },
     "execution_count": 8,
     "metadata": {},
     "output_type": "execute_result"
    }
   ],
   "source": [
    "arr3"
   ]
  },
  {
   "cell_type": "code",
   "execution_count": 27,
   "id": "ec576bab-173b-401c-afbb-6a059bd0a471",
   "metadata": {},
   "outputs": [
    {
     "data": {
      "text/plain": [
       "2"
      ]
     },
     "execution_count": 27,
     "metadata": {},
     "output_type": "execute_result"
    }
   ],
   "source": [
    "arr3.ndim"
   ]
  },
  {
   "cell_type": "code",
   "execution_count": 9,
   "id": "4c3dcc6a-e0eb-4512-960b-1909e67c6410",
   "metadata": {},
   "outputs": [
    {
     "data": {
      "text/plain": [
       "153"
      ]
     },
     "execution_count": 9,
     "metadata": {},
     "output_type": "execute_result"
    }
   ],
   "source": [
    "arr1.sum()"
   ]
  },
  {
   "cell_type": "code",
   "execution_count": 10,
   "id": "c9ddbb8c-534e-46d9-a7a6-65ac8a48b3c6",
   "metadata": {},
   "outputs": [
    {
     "data": {
      "text/plain": [
       "290"
      ]
     },
     "execution_count": 10,
     "metadata": {},
     "output_type": "execute_result"
    }
   ],
   "source": [
    "arr2.sum()"
   ]
  },
  {
   "cell_type": "code",
   "execution_count": 11,
   "id": "c0f347ec-20d7-45b5-9015-a3cc8bfa98dc",
   "metadata": {},
   "outputs": [
    {
     "data": {
      "text/plain": [
       "233"
      ]
     },
     "execution_count": 11,
     "metadata": {},
     "output_type": "execute_result"
    }
   ],
   "source": [
    "arr3.sum()"
   ]
  },
  {
   "cell_type": "code",
   "execution_count": 12,
   "id": "3397ebd4-9641-463a-ad12-0c7a9eacbd5b",
   "metadata": {},
   "outputs": [
    {
     "data": {
      "text/plain": [
       "array([ 88, 122,  80])"
      ]
     },
     "execution_count": 12,
     "metadata": {},
     "output_type": "execute_result"
    }
   ],
   "source": [
    "arr2.sum(axis = 0) ## row wise addition"
   ]
  },
  {
   "cell_type": "code",
   "execution_count": 13,
   "id": "edc1dd44-67b5-44d6-a643-bfe624179302",
   "metadata": {},
   "outputs": [
    {
     "data": {
      "text/plain": [
       "array([ 31, 121, 138])"
      ]
     },
     "execution_count": 13,
     "metadata": {},
     "output_type": "execute_result"
    }
   ],
   "source": [
    "arr2.sum(axis = 1) ## column wise addition"
   ]
  },
  {
   "cell_type": "code",
   "execution_count": 14,
   "id": "3e4698b1-ceec-4812-977f-e594dbaecd29",
   "metadata": {},
   "outputs": [
    {
     "data": {
      "text/plain": [
       "array([ 12,  16,  34, -10, 120,  61])"
      ]
     },
     "execution_count": 14,
     "metadata": {},
     "output_type": "execute_result"
    }
   ],
   "source": [
    "arr3.sum(axis = 0)"
   ]
  },
  {
   "cell_type": "code",
   "execution_count": 15,
   "id": "177df426-e890-42e2-a27d-3e3f7d0a32f1",
   "metadata": {},
   "outputs": [
    {
     "data": {
      "text/plain": [
       "array([116, 117])"
      ]
     },
     "execution_count": 15,
     "metadata": {},
     "output_type": "execute_result"
    }
   ],
   "source": [
    "arr3.sum(axis = 1)"
   ]
  },
  {
   "cell_type": "code",
   "execution_count": 16,
   "id": "c54f5d6c-fda3-453d-bedb-20ee0be179fe",
   "metadata": {},
   "outputs": [
    {
     "data": {
      "text/plain": [
       "30.6"
      ]
     },
     "execution_count": 16,
     "metadata": {},
     "output_type": "execute_result"
    }
   ],
   "source": [
    "np.average(arr1)"
   ]
  },
  {
   "cell_type": "code",
   "execution_count": 24,
   "id": "34ddf7a0-2fdb-4042-b21e-ca7cfc7ebd7e",
   "metadata": {},
   "outputs": [
    {
     "ename": "AxisError",
     "evalue": "axis 1 is out of bounds for array of dimension 1",
     "output_type": "error",
     "traceback": [
      "\u001b[0;31m---------------------------------------------------------------------------\u001b[0m",
      "\u001b[0;31mAxisError\u001b[0m                                 Traceback (most recent call last)",
      "Cell \u001b[0;32mIn [24], line 1\u001b[0m\n\u001b[0;32m----> 1\u001b[0m \u001b[43mnp\u001b[49m\u001b[38;5;241;43m.\u001b[39;49m\u001b[43maverage\u001b[49m\u001b[43m(\u001b[49m\u001b[43marr1\u001b[49m\u001b[43m,\u001b[49m\u001b[38;5;241;43m1\u001b[39;49m\u001b[43m)\u001b[49m\n",
      "File \u001b[0;32m<__array_function__ internals>:180\u001b[0m, in \u001b[0;36maverage\u001b[0;34m(*args, **kwargs)\u001b[0m\n",
      "File \u001b[0;32m/opt/conda/lib/python3.10/site-packages/numpy/lib/function_base.py:518\u001b[0m, in \u001b[0;36maverage\u001b[0;34m(a, axis, weights, returned, keepdims)\u001b[0m\n\u001b[1;32m    515\u001b[0m     keepdims_kw \u001b[38;5;241m=\u001b[39m {\u001b[38;5;124m'\u001b[39m\u001b[38;5;124mkeepdims\u001b[39m\u001b[38;5;124m'\u001b[39m: keepdims}\n\u001b[1;32m    517\u001b[0m \u001b[38;5;28;01mif\u001b[39;00m weights \u001b[38;5;129;01mis\u001b[39;00m \u001b[38;5;28;01mNone\u001b[39;00m:\n\u001b[0;32m--> 518\u001b[0m     avg \u001b[38;5;241m=\u001b[39m \u001b[43ma\u001b[49m\u001b[38;5;241;43m.\u001b[39;49m\u001b[43mmean\u001b[49m\u001b[43m(\u001b[49m\u001b[43maxis\u001b[49m\u001b[43m,\u001b[49m\u001b[43m \u001b[49m\u001b[38;5;241;43m*\u001b[39;49m\u001b[38;5;241;43m*\u001b[39;49m\u001b[43mkeepdims_kw\u001b[49m\u001b[43m)\u001b[49m\n\u001b[1;32m    519\u001b[0m     scl \u001b[38;5;241m=\u001b[39m avg\u001b[38;5;241m.\u001b[39mdtype\u001b[38;5;241m.\u001b[39mtype(a\u001b[38;5;241m.\u001b[39msize\u001b[38;5;241m/\u001b[39mavg\u001b[38;5;241m.\u001b[39msize)\n\u001b[1;32m    520\u001b[0m \u001b[38;5;28;01melse\u001b[39;00m:\n",
      "File \u001b[0;32m/opt/conda/lib/python3.10/site-packages/numpy/core/_methods.py:168\u001b[0m, in \u001b[0;36m_mean\u001b[0;34m(a, axis, dtype, out, keepdims, where)\u001b[0m\n\u001b[1;32m    164\u001b[0m arr \u001b[38;5;241m=\u001b[39m asanyarray(a)\n\u001b[1;32m    166\u001b[0m is_float16_result \u001b[38;5;241m=\u001b[39m \u001b[38;5;28;01mFalse\u001b[39;00m\n\u001b[0;32m--> 168\u001b[0m rcount \u001b[38;5;241m=\u001b[39m \u001b[43m_count_reduce_items\u001b[49m\u001b[43m(\u001b[49m\u001b[43marr\u001b[49m\u001b[43m,\u001b[49m\u001b[43m \u001b[49m\u001b[43maxis\u001b[49m\u001b[43m,\u001b[49m\u001b[43m \u001b[49m\u001b[43mkeepdims\u001b[49m\u001b[38;5;241;43m=\u001b[39;49m\u001b[43mkeepdims\u001b[49m\u001b[43m,\u001b[49m\u001b[43m \u001b[49m\u001b[43mwhere\u001b[49m\u001b[38;5;241;43m=\u001b[39;49m\u001b[43mwhere\u001b[49m\u001b[43m)\u001b[49m\n\u001b[1;32m    169\u001b[0m \u001b[38;5;28;01mif\u001b[39;00m rcount \u001b[38;5;241m==\u001b[39m \u001b[38;5;241m0\u001b[39m \u001b[38;5;28;01mif\u001b[39;00m where \u001b[38;5;129;01mis\u001b[39;00m \u001b[38;5;28;01mTrue\u001b[39;00m \u001b[38;5;28;01melse\u001b[39;00m umr_any(rcount \u001b[38;5;241m==\u001b[39m \u001b[38;5;241m0\u001b[39m, axis\u001b[38;5;241m=\u001b[39m\u001b[38;5;28;01mNone\u001b[39;00m):\n\u001b[1;32m    170\u001b[0m     warnings\u001b[38;5;241m.\u001b[39mwarn(\u001b[38;5;124m\"\u001b[39m\u001b[38;5;124mMean of empty slice.\u001b[39m\u001b[38;5;124m\"\u001b[39m, \u001b[38;5;167;01mRuntimeWarning\u001b[39;00m, stacklevel\u001b[38;5;241m=\u001b[39m\u001b[38;5;241m2\u001b[39m)\n",
      "File \u001b[0;32m/opt/conda/lib/python3.10/site-packages/numpy/core/_methods.py:76\u001b[0m, in \u001b[0;36m_count_reduce_items\u001b[0;34m(arr, axis, keepdims, where)\u001b[0m\n\u001b[1;32m     74\u001b[0m     items \u001b[38;5;241m=\u001b[39m \u001b[38;5;241m1\u001b[39m\n\u001b[1;32m     75\u001b[0m     \u001b[38;5;28;01mfor\u001b[39;00m ax \u001b[38;5;129;01min\u001b[39;00m axis:\n\u001b[0;32m---> 76\u001b[0m         items \u001b[38;5;241m*\u001b[39m\u001b[38;5;241m=\u001b[39m arr\u001b[38;5;241m.\u001b[39mshape[\u001b[43mmu\u001b[49m\u001b[38;5;241;43m.\u001b[39;49m\u001b[43mnormalize_axis_index\u001b[49m\u001b[43m(\u001b[49m\u001b[43max\u001b[49m\u001b[43m,\u001b[49m\u001b[43m \u001b[49m\u001b[43marr\u001b[49m\u001b[38;5;241;43m.\u001b[39;49m\u001b[43mndim\u001b[49m\u001b[43m)\u001b[49m]\n\u001b[1;32m     77\u001b[0m     items \u001b[38;5;241m=\u001b[39m nt\u001b[38;5;241m.\u001b[39mintp(items)\n\u001b[1;32m     78\u001b[0m \u001b[38;5;28;01melse\u001b[39;00m:\n\u001b[1;32m     79\u001b[0m     \u001b[38;5;66;03m# TODO: Optimize case when `where` is broadcast along a non-reduction\u001b[39;00m\n\u001b[1;32m     80\u001b[0m     \u001b[38;5;66;03m# axis and full sum is more excessive than needed.\u001b[39;00m\n\u001b[1;32m     81\u001b[0m \n\u001b[1;32m     82\u001b[0m     \u001b[38;5;66;03m# guarded to protect circular imports\u001b[39;00m\n",
      "\u001b[0;31mAxisError\u001b[0m: axis 1 is out of bounds for array of dimension 1"
     ]
    }
   ],
   "source": [
    "np.average(arr1,1)"
   ]
  },
  {
   "cell_type": "code",
   "execution_count": 17,
   "id": "1aee56f7-c243-4775-88be-963ce4fcd4b8",
   "metadata": {},
   "outputs": [
    {
     "data": {
      "text/plain": [
       "32.22222222222222"
      ]
     },
     "execution_count": 17,
     "metadata": {},
     "output_type": "execute_result"
    }
   ],
   "source": [
    "np.average(arr2)"
   ]
  },
  {
   "cell_type": "code",
   "execution_count": 18,
   "id": "3dd71a01-d4f3-4ad3-9e2c-9d67e729b5c4",
   "metadata": {},
   "outputs": [
    {
     "data": {
      "text/plain": [
       "19.416666666666668"
      ]
     },
     "execution_count": 18,
     "metadata": {},
     "output_type": "execute_result"
    }
   ],
   "source": [
    "np.average(arr3)"
   ]
  },
  {
   "cell_type": "code",
   "execution_count": 19,
   "id": "dbf7a254-c38e-41f0-b37e-453d2229a554",
   "metadata": {},
   "outputs": [
    {
     "data": {
      "text/plain": [
       "array([29.33333333, 40.66666667, 26.66666667])"
      ]
     },
     "execution_count": 19,
     "metadata": {},
     "output_type": "execute_result"
    }
   ],
   "source": [
    "np.average(arr2,axis = 0)"
   ]
  },
  {
   "cell_type": "code",
   "execution_count": 20,
   "id": "7e7ad3c3-5656-411b-b458-20f55a4a93a4",
   "metadata": {},
   "outputs": [
    {
     "data": {
      "text/plain": [
       "array([10.33333333, 40.33333333, 46.        ])"
      ]
     },
     "execution_count": 20,
     "metadata": {},
     "output_type": "execute_result"
    }
   ],
   "source": [
    "np.average(arr2,axis = 1)"
   ]
  },
  {
   "cell_type": "code",
   "execution_count": 21,
   "id": "45b8a797-2c83-47a7-8d91-7da871b594b9",
   "metadata": {},
   "outputs": [
    {
     "data": {
      "text/plain": [
       "array([ 6. ,  8. , 17. , -5. , 60. , 30.5])"
      ]
     },
     "execution_count": 21,
     "metadata": {},
     "output_type": "execute_result"
    }
   ],
   "source": [
    "np.average(arr3,axis = 0)"
   ]
  },
  {
   "cell_type": "code",
   "execution_count": 23,
   "id": "b8a43299-7cf1-4b6f-b7f9-ea64cac3f510",
   "metadata": {},
   "outputs": [
    {
     "data": {
      "text/plain": [
       "array([ 6. ,  8. , 17. , -5. , 60. , 30.5])"
      ]
     },
     "execution_count": 23,
     "metadata": {},
     "output_type": "execute_result"
    }
   ],
   "source": [
    "np.average(arr3,0)"
   ]
  },
  {
   "cell_type": "code",
   "execution_count": 22,
   "id": "1d0ec032-0f58-4cf6-a4e8-ff84cfb02dbd",
   "metadata": {},
   "outputs": [
    {
     "data": {
      "text/plain": [
       "array([19.33333333, 19.5       ])"
      ]
     },
     "execution_count": 22,
     "metadata": {},
     "output_type": "execute_result"
    }
   ],
   "source": [
    "np.average(arr3,axis = 1) ##or np.average(arr3,1)"
   ]
  },
  {
   "cell_type": "code",
   "execution_count": 28,
   "id": "45d1ccbe-7ba1-492a-a318-ed7d1ff322c7",
   "metadata": {},
   "outputs": [
    {
     "data": {
      "text/plain": [
       "11"
      ]
     },
     "execution_count": 28,
     "metadata": {},
     "output_type": "execute_result"
    }
   ],
   "source": [
    "arr1.min()"
   ]
  },
  {
   "cell_type": "code",
   "execution_count": 29,
   "id": "86f9f7a7-f9f2-499a-8758-27d6a3c587d9",
   "metadata": {},
   "outputs": [
    {
     "data": {
      "text/plain": [
       "1"
      ]
     },
     "execution_count": 29,
     "metadata": {},
     "output_type": "execute_result"
    }
   ],
   "source": [
    "arr2.min()"
   ]
  },
  {
   "cell_type": "code",
   "execution_count": 30,
   "id": "f7b18c7c-b9d3-4963-85c7-de8b1cfd1a8f",
   "metadata": {},
   "outputs": [
    {
     "data": {
      "text/plain": [
       "-14"
      ]
     },
     "execution_count": 30,
     "metadata": {},
     "output_type": "execute_result"
    }
   ],
   "source": [
    "arr3.min()"
   ]
  },
  {
   "cell_type": "code",
   "execution_count": 31,
   "id": "6652a924-d6bb-40d2-ac20-9670d2a27989",
   "metadata": {},
   "outputs": [
    {
     "data": {
      "text/plain": [
       "49"
      ]
     },
     "execution_count": 31,
     "metadata": {},
     "output_type": "execute_result"
    }
   ],
   "source": [
    "arr1.max()"
   ]
  },
  {
   "cell_type": "code",
   "execution_count": 36,
   "id": "b129f3bf-09c7-4cb6-8074-2e0d734ab96c",
   "metadata": {},
   "outputs": [
    {
     "data": {
      "text/plain": [
       "72"
      ]
     },
     "execution_count": 36,
     "metadata": {},
     "output_type": "execute_result"
    }
   ],
   "source": [
    "arr2.max()"
   ]
  },
  {
   "cell_type": "code",
   "execution_count": 37,
   "id": "ec3fa15b-dbd5-4826-91ae-5eb4132e2f5a",
   "metadata": {},
   "outputs": [
    {
     "data": {
      "text/plain": [
       "100"
      ]
     },
     "execution_count": 37,
     "metadata": {},
     "output_type": "execute_result"
    }
   ],
   "source": [
    "arr3.max()"
   ]
  },
  {
   "cell_type": "code",
   "execution_count": 34,
   "id": "70746915-ca39-4910-ba38-7e8e23f42463",
   "metadata": {},
   "outputs": [
    {
     "data": {
      "text/plain": [
       "49"
      ]
     },
     "execution_count": 34,
     "metadata": {},
     "output_type": "execute_result"
    }
   ],
   "source": [
    "arr1.max(axis = 0)"
   ]
  },
  {
   "cell_type": "code",
   "execution_count": 38,
   "id": "a1f4f347-3ad3-41ae-a9bc-893014692fe6",
   "metadata": {},
   "outputs": [
    {
     "data": {
      "text/plain": [
       "array([58, 72, 51])"
      ]
     },
     "execution_count": 38,
     "metadata": {},
     "output_type": "execute_result"
    }
   ],
   "source": [
    "arr2.max(axis = 0)"
   ]
  },
  {
   "cell_type": "code",
   "execution_count": 39,
   "id": "36ebaa94-9cb6-44a9-9cdf-74b6ea207988",
   "metadata": {},
   "outputs": [
    {
     "data": {
      "text/plain": [
       "array([ 15,   9,  24,   1, 100,  75])"
      ]
     },
     "execution_count": 39,
     "metadata": {},
     "output_type": "execute_result"
    }
   ],
   "source": [
    "arr3.max(axis = 0)"
   ]
  },
  {
   "cell_type": "code",
   "execution_count": 40,
   "id": "fa4d7098-7599-4750-bca1-12c193ed5546",
   "metadata": {},
   "outputs": [
    {
     "ename": "AxisError",
     "evalue": "axis 1 is out of bounds for array of dimension 1",
     "output_type": "error",
     "traceback": [
      "\u001b[0;31m---------------------------------------------------------------------------\u001b[0m",
      "\u001b[0;31mAxisError\u001b[0m                                 Traceback (most recent call last)",
      "Cell \u001b[0;32mIn [40], line 1\u001b[0m\n\u001b[0;32m----> 1\u001b[0m \u001b[43marr1\u001b[49m\u001b[38;5;241;43m.\u001b[39;49m\u001b[43mmax\u001b[49m\u001b[43m(\u001b[49m\u001b[43maxis\u001b[49m\u001b[43m \u001b[49m\u001b[38;5;241;43m=\u001b[39;49m\u001b[43m \u001b[49m\u001b[38;5;241;43m1\u001b[39;49m\u001b[43m)\u001b[49m\n",
      "File \u001b[0;32m/opt/conda/lib/python3.10/site-packages/numpy/core/_methods.py:40\u001b[0m, in \u001b[0;36m_amax\u001b[0;34m(a, axis, out, keepdims, initial, where)\u001b[0m\n\u001b[1;32m     38\u001b[0m \u001b[38;5;28;01mdef\u001b[39;00m \u001b[38;5;21m_amax\u001b[39m(a, axis\u001b[38;5;241m=\u001b[39m\u001b[38;5;28;01mNone\u001b[39;00m, out\u001b[38;5;241m=\u001b[39m\u001b[38;5;28;01mNone\u001b[39;00m, keepdims\u001b[38;5;241m=\u001b[39m\u001b[38;5;28;01mFalse\u001b[39;00m,\n\u001b[1;32m     39\u001b[0m           initial\u001b[38;5;241m=\u001b[39m_NoValue, where\u001b[38;5;241m=\u001b[39m\u001b[38;5;28;01mTrue\u001b[39;00m):\n\u001b[0;32m---> 40\u001b[0m     \u001b[38;5;28;01mreturn\u001b[39;00m \u001b[43mumr_maximum\u001b[49m\u001b[43m(\u001b[49m\u001b[43ma\u001b[49m\u001b[43m,\u001b[49m\u001b[43m \u001b[49m\u001b[43maxis\u001b[49m\u001b[43m,\u001b[49m\u001b[43m \u001b[49m\u001b[38;5;28;43;01mNone\u001b[39;49;00m\u001b[43m,\u001b[49m\u001b[43m \u001b[49m\u001b[43mout\u001b[49m\u001b[43m,\u001b[49m\u001b[43m \u001b[49m\u001b[43mkeepdims\u001b[49m\u001b[43m,\u001b[49m\u001b[43m \u001b[49m\u001b[43minitial\u001b[49m\u001b[43m,\u001b[49m\u001b[43m \u001b[49m\u001b[43mwhere\u001b[49m\u001b[43m)\u001b[49m\n",
      "\u001b[0;31mAxisError\u001b[0m: axis 1 is out of bounds for array of dimension 1"
     ]
    }
   ],
   "source": [
    "arr1.max(axis = 1)"
   ]
  },
  {
   "cell_type": "code",
   "execution_count": 41,
   "id": "38f6656e-4ce6-438c-bb62-89b2190eeb52",
   "metadata": {},
   "outputs": [
    {
     "data": {
      "text/plain": [
       "array([21, 51, 72])"
      ]
     },
     "execution_count": 41,
     "metadata": {},
     "output_type": "execute_result"
    }
   ],
   "source": [
    "arr2.max(axis = 1) ## or arr2.miax(1)"
   ]
  },
  {
   "cell_type": "code",
   "execution_count": 42,
   "id": "b6745f84-b4a8-4585-b9fc-dcc5f8a152c4",
   "metadata": {},
   "outputs": [
    {
     "data": {
      "text/plain": [
       "array([ 75, 100])"
      ]
     },
     "execution_count": 42,
     "metadata": {},
     "output_type": "execute_result"
    }
   ],
   "source": [
    "arr3.max(axis = 1)"
   ]
  },
  {
   "cell_type": "code",
   "execution_count": 43,
   "id": "1e8900be-5e8a-4a1a-bd89-d2aaa85aa106",
   "metadata": {},
   "outputs": [
    {
     "data": {
      "text/plain": [
       "30.6"
      ]
     },
     "execution_count": 43,
     "metadata": {},
     "output_type": "execute_result"
    }
   ],
   "source": [
    "arr1.mean()"
   ]
  },
  {
   "cell_type": "code",
   "execution_count": 44,
   "id": "30a25406-0cf3-478a-8ad5-5f0250e90db1",
   "metadata": {},
   "outputs": [
    {
     "data": {
      "text/plain": [
       "32.22222222222222"
      ]
     },
     "execution_count": 44,
     "metadata": {},
     "output_type": "execute_result"
    }
   ],
   "source": [
    "arr2.mean()"
   ]
  },
  {
   "cell_type": "code",
   "execution_count": 45,
   "id": "6959fcab-f71f-417f-91f6-f68d39ca9e9b",
   "metadata": {},
   "outputs": [
    {
     "data": {
      "text/plain": [
       "19.416666666666668"
      ]
     },
     "execution_count": 45,
     "metadata": {},
     "output_type": "execute_result"
    }
   ],
   "source": [
    "arr3.mean()"
   ]
  },
  {
   "cell_type": "code",
   "execution_count": 46,
   "id": "5335fe0f-bd3d-47b8-99f4-a95f634816a7",
   "metadata": {},
   "outputs": [
    {
     "ename": "AxisError",
     "evalue": "axis 1 is out of bounds for array of dimension 1",
     "output_type": "error",
     "traceback": [
      "\u001b[0;31m---------------------------------------------------------------------------\u001b[0m",
      "\u001b[0;31mAxisError\u001b[0m                                 Traceback (most recent call last)",
      "Cell \u001b[0;32mIn [46], line 1\u001b[0m\n\u001b[0;32m----> 1\u001b[0m \u001b[43marr1\u001b[49m\u001b[38;5;241;43m.\u001b[39;49m\u001b[43mmean\u001b[49m\u001b[43m(\u001b[49m\u001b[38;5;241;43m1\u001b[39;49m\u001b[43m)\u001b[49m\n",
      "File \u001b[0;32m/opt/conda/lib/python3.10/site-packages/numpy/core/_methods.py:168\u001b[0m, in \u001b[0;36m_mean\u001b[0;34m(a, axis, dtype, out, keepdims, where)\u001b[0m\n\u001b[1;32m    164\u001b[0m arr \u001b[38;5;241m=\u001b[39m asanyarray(a)\n\u001b[1;32m    166\u001b[0m is_float16_result \u001b[38;5;241m=\u001b[39m \u001b[38;5;28;01mFalse\u001b[39;00m\n\u001b[0;32m--> 168\u001b[0m rcount \u001b[38;5;241m=\u001b[39m \u001b[43m_count_reduce_items\u001b[49m\u001b[43m(\u001b[49m\u001b[43marr\u001b[49m\u001b[43m,\u001b[49m\u001b[43m \u001b[49m\u001b[43maxis\u001b[49m\u001b[43m,\u001b[49m\u001b[43m \u001b[49m\u001b[43mkeepdims\u001b[49m\u001b[38;5;241;43m=\u001b[39;49m\u001b[43mkeepdims\u001b[49m\u001b[43m,\u001b[49m\u001b[43m \u001b[49m\u001b[43mwhere\u001b[49m\u001b[38;5;241;43m=\u001b[39;49m\u001b[43mwhere\u001b[49m\u001b[43m)\u001b[49m\n\u001b[1;32m    169\u001b[0m \u001b[38;5;28;01mif\u001b[39;00m rcount \u001b[38;5;241m==\u001b[39m \u001b[38;5;241m0\u001b[39m \u001b[38;5;28;01mif\u001b[39;00m where \u001b[38;5;129;01mis\u001b[39;00m \u001b[38;5;28;01mTrue\u001b[39;00m \u001b[38;5;28;01melse\u001b[39;00m umr_any(rcount \u001b[38;5;241m==\u001b[39m \u001b[38;5;241m0\u001b[39m, axis\u001b[38;5;241m=\u001b[39m\u001b[38;5;28;01mNone\u001b[39;00m):\n\u001b[1;32m    170\u001b[0m     warnings\u001b[38;5;241m.\u001b[39mwarn(\u001b[38;5;124m\"\u001b[39m\u001b[38;5;124mMean of empty slice.\u001b[39m\u001b[38;5;124m\"\u001b[39m, \u001b[38;5;167;01mRuntimeWarning\u001b[39;00m, stacklevel\u001b[38;5;241m=\u001b[39m\u001b[38;5;241m2\u001b[39m)\n",
      "File \u001b[0;32m/opt/conda/lib/python3.10/site-packages/numpy/core/_methods.py:76\u001b[0m, in \u001b[0;36m_count_reduce_items\u001b[0;34m(arr, axis, keepdims, where)\u001b[0m\n\u001b[1;32m     74\u001b[0m     items \u001b[38;5;241m=\u001b[39m \u001b[38;5;241m1\u001b[39m\n\u001b[1;32m     75\u001b[0m     \u001b[38;5;28;01mfor\u001b[39;00m ax \u001b[38;5;129;01min\u001b[39;00m axis:\n\u001b[0;32m---> 76\u001b[0m         items \u001b[38;5;241m*\u001b[39m\u001b[38;5;241m=\u001b[39m arr\u001b[38;5;241m.\u001b[39mshape[\u001b[43mmu\u001b[49m\u001b[38;5;241;43m.\u001b[39;49m\u001b[43mnormalize_axis_index\u001b[49m\u001b[43m(\u001b[49m\u001b[43max\u001b[49m\u001b[43m,\u001b[49m\u001b[43m \u001b[49m\u001b[43marr\u001b[49m\u001b[38;5;241;43m.\u001b[39;49m\u001b[43mndim\u001b[49m\u001b[43m)\u001b[49m]\n\u001b[1;32m     77\u001b[0m     items \u001b[38;5;241m=\u001b[39m nt\u001b[38;5;241m.\u001b[39mintp(items)\n\u001b[1;32m     78\u001b[0m \u001b[38;5;28;01melse\u001b[39;00m:\n\u001b[1;32m     79\u001b[0m     \u001b[38;5;66;03m# TODO: Optimize case when `where` is broadcast along a non-reduction\u001b[39;00m\n\u001b[1;32m     80\u001b[0m     \u001b[38;5;66;03m# axis and full sum is more excessive than needed.\u001b[39;00m\n\u001b[1;32m     81\u001b[0m \n\u001b[1;32m     82\u001b[0m     \u001b[38;5;66;03m# guarded to protect circular imports\u001b[39;00m\n",
      "\u001b[0;31mAxisError\u001b[0m: axis 1 is out of bounds for array of dimension 1"
     ]
    }
   ],
   "source": [
    "arr1.mean(1)"
   ]
  },
  {
   "cell_type": "code",
   "execution_count": 47,
   "id": "879b7e95-b024-4197-86fe-2d8f3a66fab1",
   "metadata": {},
   "outputs": [
    {
     "data": {
      "text/plain": [
       "array([10.33333333, 40.33333333, 46.        ])"
      ]
     },
     "execution_count": 47,
     "metadata": {},
     "output_type": "execute_result"
    }
   ],
   "source": [
    "arr2.mean(1) ##col wise mean"
   ]
  },
  {
   "cell_type": "code",
   "execution_count": 49,
   "id": "252d11f5-c7c3-4ed3-9447-6165b7174545",
   "metadata": {},
   "outputs": [
    {
     "data": {
      "text/plain": [
       "array([[ 1,  9, 21],\n",
       "       [29, 41, 51],\n",
       "       [58, 72,  8]])"
      ]
     },
     "execution_count": 49,
     "metadata": {},
     "output_type": "execute_result"
    }
   ],
   "source": [
    "arr2"
   ]
  },
  {
   "cell_type": "code",
   "execution_count": 48,
   "id": "2de2e03d-7358-4bc5-aea0-d5ed1eb9ba35",
   "metadata": {},
   "outputs": [
    {
     "data": {
      "text/plain": [
       "array([19.33333333, 19.5       ])"
      ]
     },
     "execution_count": 48,
     "metadata": {},
     "output_type": "execute_result"
    }
   ],
   "source": [
    "arr3.mean(1) column wise mean"
   ]
  },
  {
   "cell_type": "code",
   "execution_count": 50,
   "id": "b476d082-9584-4871-b7d0-3a99cd9cc331",
   "metadata": {},
   "outputs": [],
   "source": [
    "### Computation on Arrays: Broadcasting"
   ]
  },
  {
   "cell_type": "markdown",
   "id": "991d8697-9e44-44ce-97d0-68011d72c29d",
   "metadata": {},
   "source": [
    "The term broadcasting refers to how numpy treats arrays with different Dimension\n",
    "while arithmetic operations leading to specific constraints. Moreover, the smaller arrayis broadcast across the larger array so that they have compatible shapes"
   ]
  },
  {
   "cell_type": "markdown",
   "id": "7d274c7d-9d05-4d78-8133-3b47f2e71af8",
   "metadata": {},
   "source": [
    "Broadcasting provides a means of vectorising array operations so that looping occurs in C rather than Python as we understand that Numpy implemented in C programming\n",
    "language"
   ]
  },
  {
   "cell_type": "markdown",
   "id": "961b05f1-415e-424a-89e2-80c41b39d325",
   "metadata": {},
   "source": [
    "It does this without creating unnecessary data copies and which leads to efficient\n",
    "algorithm implementations"
   ]
  },
  {
   "cell_type": "markdown",
   "id": "7eb919b8-c5be-4b39-9283-24d6c12d11fc",
   "metadata": {},
   "source": [
    "In some cases, broadcasting is a bad idea because it leads to ineffective memory\n",
    "utilisation which declines the computation"
   ]
  },
  {
   "cell_type": "code",
   "execution_count": 53,
   "id": "19fc341e-e5a1-460c-a667-1ff64b2669a9",
   "metadata": {},
   "outputs": [],
   "source": [
    "a1 = np.array([1,3,7,5])\n",
    "b1 = np.array([90,50,0,30])"
   ]
  },
  {
   "cell_type": "code",
   "execution_count": 54,
   "id": "d1718894-60f3-41da-ae2c-9108a7a6ca75",
   "metadata": {},
   "outputs": [],
   "source": [
    "c1 = a1 * b1"
   ]
  },
  {
   "cell_type": "code",
   "execution_count": 55,
   "id": "38e9e0d4-9114-4337-bb78-bfa16e75de01",
   "metadata": {},
   "outputs": [
    {
     "data": {
      "text/plain": [
       "array([ 90, 150,   0, 150])"
      ]
     },
     "execution_count": 55,
     "metadata": {},
     "output_type": "execute_result"
    }
   ],
   "source": [
    "c1"
   ]
  },
  {
   "cell_type": "code",
   "execution_count": 56,
   "id": "22117006-6cf0-4ccf-8e47-da715157802a",
   "metadata": {},
   "outputs": [],
   "source": [
    "d1 = 3"
   ]
  },
  {
   "cell_type": "code",
   "execution_count": 57,
   "id": "8d3598cf-2459-4e4f-b331-ad2fc5682187",
   "metadata": {},
   "outputs": [],
   "source": [
    "e1 = a1 * d1"
   ]
  },
  {
   "cell_type": "code",
   "execution_count": 58,
   "id": "dddbe0ed-d4d5-4c90-95eb-28a2f62670ed",
   "metadata": {},
   "outputs": [
    {
     "data": {
      "text/plain": [
       "array([ 3,  9, 21, 15])"
      ]
     },
     "execution_count": 58,
     "metadata": {},
     "output_type": "execute_result"
    }
   ],
   "source": [
    "e1"
   ]
  },
  {
   "cell_type": "code",
   "execution_count": 59,
   "id": "84c69ac5-4971-44b4-a590-677d8235109f",
   "metadata": {},
   "outputs": [],
   "source": [
    "f1 = a1 + d1"
   ]
  },
  {
   "cell_type": "code",
   "execution_count": 60,
   "id": "6b6329b4-a014-43c8-b43f-7ec2e2f865e0",
   "metadata": {},
   "outputs": [
    {
     "data": {
      "text/plain": [
       "array([ 4,  6, 10,  8])"
      ]
     },
     "execution_count": 60,
     "metadata": {},
     "output_type": "execute_result"
    }
   ],
   "source": [
    "f1"
   ]
  },
  {
   "cell_type": "markdown",
   "id": "eaeb620e-9afa-42cc-8a81-319023a30980",
   "metadata": {},
   "source": [
    "Broadcasting Rules:\n",
    "• The following are the rules in order to broadcast two arrays together:\n",
    "1. Prepend the shape of the lower rank array with 1s until both shapes have the same\n",
    "length if the arrays do not have the same rank\n",
    "2. In a dimension, the two arrays are compatible if they have the same size in the\n",
    "dimension or if one of the arrays has size 1 in that dimension\n",
    "3. If arrays are compatible with all dimensions then they can be broadcasted together\n",
    "4. After broadcasting, every array acts as if it had shape equivalent to the element‐wise maximum of shapes of the two input arrays\n",
    "5. In any dimension where one array had size 1, as well as the other array had size greater than 1, the first array acts as if it were copied along that dimension"
   ]
  },
  {
   "cell_type": "code",
   "execution_count": 61,
   "id": "0b373ede-cbd4-4e6e-bfa5-14c4852ba0a0",
   "metadata": {},
   "outputs": [],
   "source": [
    "a1 =np.array([[12,23,34],[11,21,31]])"
   ]
  },
  {
   "cell_type": "code",
   "execution_count": 62,
   "id": "bfa836af-5d38-4ff6-a510-2254d45c174e",
   "metadata": {},
   "outputs": [
    {
     "data": {
      "text/plain": [
       "array([[12, 23, 34],\n",
       "       [11, 21, 31]])"
      ]
     },
     "execution_count": 62,
     "metadata": {},
     "output_type": "execute_result"
    }
   ],
   "source": [
    "a1"
   ]
  },
  {
   "cell_type": "code",
   "execution_count": 63,
   "id": "c5378167-4044-43bc-9445-81f2767cbf36",
   "metadata": {},
   "outputs": [],
   "source": [
    "b1 = 4"
   ]
  },
  {
   "cell_type": "code",
   "execution_count": 64,
   "id": "52029e4d-76ea-4332-93e5-b66298b1137c",
   "metadata": {},
   "outputs": [
    {
     "data": {
      "text/plain": [
       "4"
      ]
     },
     "execution_count": 64,
     "metadata": {},
     "output_type": "execute_result"
    }
   ],
   "source": [
    "b1"
   ]
  },
  {
   "cell_type": "code",
   "execution_count": 65,
   "id": "d1f4d2f8-55be-4518-86d0-92fb341273a3",
   "metadata": {},
   "outputs": [],
   "source": [
    "c1 = a1 + b1"
   ]
  },
  {
   "cell_type": "code",
   "execution_count": 66,
   "id": "34f45ffd-1673-49cb-a73d-edee46030fc1",
   "metadata": {},
   "outputs": [
    {
     "data": {
      "text/plain": [
       "array([[16, 27, 38],\n",
       "       [15, 25, 35]])"
      ]
     },
     "execution_count": 66,
     "metadata": {},
     "output_type": "execute_result"
    }
   ],
   "source": [
    "c1"
   ]
  },
  {
   "cell_type": "code",
   "execution_count": 75,
   "id": "1abd68b5-76a4-4911-bf81-c81a7334d1bc",
   "metadata": {},
   "outputs": [],
   "source": [
    "a1= np.array([1,3,5,7])\n",
    "d1= np.array([1,5,5,3])"
   ]
  },
  {
   "cell_type": "code",
   "execution_count": 76,
   "id": "954c2559-7887-4156-933a-fd8fb40172bf",
   "metadata": {},
   "outputs": [],
   "source": [
    "e1= d1*a1"
   ]
  },
  {
   "cell_type": "code",
   "execution_count": 78,
   "id": "48810b2d-dbc5-446f-b71f-dd78c7642716",
   "metadata": {},
   "outputs": [
    {
     "data": {
      "text/plain": [
       "array([ 1, 15, 25, 21])"
      ]
     },
     "execution_count": 78,
     "metadata": {},
     "output_type": "execute_result"
    }
   ],
   "source": [
    "e1"
   ]
  },
  {
   "cell_type": "markdown",
   "id": "0d5eccdf-fdb2-409e-953f-cf001219da41",
   "metadata": {},
   "source": [
    "random function\n",
    "\n",
    "A two‐dimensional array is generated by the first array having a size of 5 rows and \n",
    "columns, and the values are within 10 and 50\n",
    "\n",
    "A random three‐dimensional array of size 2*3*6 is generated by this second array. The\n",
    "generated random values are within 1 and 20"
   ]
  },
  {
   "cell_type": "code",
   "execution_count": 92,
   "id": "12c423be-4ace-4efc-b90a-718b47998d07",
   "metadata": {},
   "outputs": [],
   "source": [
    "arr_random = np.random.randint(10, 50, size = (5, 8))"
   ]
  },
  {
   "cell_type": "code",
   "execution_count": 93,
   "id": "aa1278f5-7304-4495-9283-b9341962015b",
   "metadata": {},
   "outputs": [
    {
     "data": {
      "text/plain": [
       "array([[18, 39, 41, 32, 43, 35, 42, 38],\n",
       "       [15, 21, 20, 26, 30, 41, 43, 44],\n",
       "       [30, 23, 40, 28, 47, 25, 37, 18],\n",
       "       [10, 21, 35, 42, 32, 40, 28, 12],\n",
       "       [12, 43, 45, 23, 18, 39, 34, 32]])"
      ]
     },
     "execution_count": 93,
     "metadata": {},
     "output_type": "execute_result"
    }
   ],
   "source": [
    "arr_random"
   ]
  },
  {
   "cell_type": "code",
   "execution_count": 100,
   "id": "6418e39f-5475-43df-ba14-e91059d5882f",
   "metadata": {},
   "outputs": [],
   "source": [
    "arr2_rand = np.random.randint(1, 20, size = (2, 3, 6))"
   ]
  },
  {
   "cell_type": "code",
   "execution_count": 101,
   "id": "bb7cde6e-a85b-4af3-a866-5c23b5de16ae",
   "metadata": {},
   "outputs": [
    {
     "data": {
      "text/plain": [
       "array([[[ 2, 12, 18, 15, 19, 16],\n",
       "        [12,  4,  6,  7, 16,  5],\n",
       "        [13, 10, 16,  3, 19, 19]],\n",
       "\n",
       "       [[10, 12,  3,  1,  8, 18],\n",
       "        [ 1,  7, 17, 17, 11, 12],\n",
       "        [ 8, 17,  9, 18,  2,  7]]])"
      ]
     },
     "execution_count": 101,
     "metadata": {},
     "output_type": "execute_result"
    }
   ],
   "source": [
    "arr2_rand"
   ]
  },
  {
   "cell_type": "code",
   "execution_count": 97,
   "id": "e4300fff-0d03-456b-9368-d248dc495036",
   "metadata": {},
   "outputs": [
    {
     "data": {
      "text/plain": [
       "3"
      ]
     },
     "execution_count": 97,
     "metadata": {},
     "output_type": "execute_result"
    }
   ],
   "source": [
    "arr2_rand.ndim"
   ]
  },
  {
   "cell_type": "code",
   "execution_count": 102,
   "id": "3c2b8029-424d-4630-bdfe-bfb938fd56f2",
   "metadata": {},
   "outputs": [],
   "source": [
    "a = np.array([0,2,3,0,1,6,5,2])"
   ]
  },
  {
   "cell_type": "code",
   "execution_count": 103,
   "id": "eea1fb86-d924-48e8-9bdb-53798b8695b6",
   "metadata": {},
   "outputs": [
    {
     "data": {
      "text/plain": [
       "array([False, False,  True, False, False,  True,  True, False])"
      ]
     },
     "execution_count": 103,
     "metadata": {},
     "output_type": "execute_result"
    }
   ],
   "source": [
    "np.greater(a,2)"
   ]
  },
  {
   "cell_type": "code",
   "execution_count": 104,
   "id": "111b0855-97f7-48b7-aef8-ae06448b54f9",
   "metadata": {},
   "outputs": [
    {
     "data": {
      "text/plain": [
       "array([False,  True,  True, False, False,  True,  True,  True])"
      ]
     },
     "execution_count": 104,
     "metadata": {},
     "output_type": "execute_result"
    }
   ],
   "source": [
    "np.greater_equal(a,2)"
   ]
  },
  {
   "cell_type": "code",
   "execution_count": 105,
   "id": "96b8b4c1-4d5d-48d3-b618-f87919272d41",
   "metadata": {},
   "outputs": [
    {
     "data": {
      "text/plain": [
       "array([ True, False, False,  True,  True, False, False, False])"
      ]
     },
     "execution_count": 105,
     "metadata": {},
     "output_type": "execute_result"
    }
   ],
   "source": [
    "np.less(a,2)"
   ]
  },
  {
   "cell_type": "code",
   "execution_count": 106,
   "id": "3eeb4575-03d6-4c79-81ba-97428b416e52",
   "metadata": {},
   "outputs": [
    {
     "data": {
      "text/plain": [
       "array([ True,  True, False,  True,  True, False, False,  True])"
      ]
     },
     "execution_count": 106,
     "metadata": {},
     "output_type": "execute_result"
    }
   ],
   "source": [
    "np.less_equal(a,2)"
   ]
  },
  {
   "cell_type": "code",
   "execution_count": 107,
   "id": "95a60720-f1cd-49ad-95a7-b3b1981b26b9",
   "metadata": {},
   "outputs": [],
   "source": [
    "a =np.reshape(np.arange(25),(5,5))"
   ]
  },
  {
   "cell_type": "code",
   "execution_count": 108,
   "id": "c229858f-d5fe-4358-8203-39d7b6d6b2c8",
   "metadata": {},
   "outputs": [
    {
     "data": {
      "text/plain": [
       "array([[ 0,  1,  2,  3,  4],\n",
       "       [ 5,  6,  7,  8,  9],\n",
       "       [10, 11, 12, 13, 14],\n",
       "       [15, 16, 17, 18, 19],\n",
       "       [20, 21, 22, 23, 24]])"
      ]
     },
     "execution_count": 108,
     "metadata": {},
     "output_type": "execute_result"
    }
   ],
   "source": [
    "a"
   ]
  },
  {
   "cell_type": "code",
   "execution_count": 109,
   "id": "b976deb4-4b9a-43da-9088-8eef0b255162",
   "metadata": {},
   "outputs": [],
   "source": [
    "greater_values = (a > 10)"
   ]
  },
  {
   "cell_type": "code",
   "execution_count": 110,
   "id": "722096f8-c31d-4965-be44-8eb89c09b05e",
   "metadata": {},
   "outputs": [
    {
     "data": {
      "text/plain": [
       "array([[False, False, False, False, False],\n",
       "       [False, False, False, False, False],\n",
       "       [False,  True,  True,  True,  True],\n",
       "       [ True,  True,  True,  True,  True],\n",
       "       [ True,  True,  True,  True,  True]])"
      ]
     },
     "execution_count": 110,
     "metadata": {},
     "output_type": "execute_result"
    }
   ],
   "source": [
    "greater_values"
   ]
  },
  {
   "cell_type": "code",
   "execution_count": 112,
   "id": "72476450-4383-48fa-ad36-044919127437",
   "metadata": {},
   "outputs": [],
   "source": [
    "even_values = (a%2==0)\n",
    "odd_values = (a%2!=0)"
   ]
  },
  {
   "cell_type": "code",
   "execution_count": 113,
   "id": "e9083687-69c3-4403-a018-21180fc21889",
   "metadata": {},
   "outputs": [
    {
     "data": {
      "text/plain": [
       "(array([[ True, False,  True, False,  True],\n",
       "        [False,  True, False,  True, False],\n",
       "        [ True, False,  True, False,  True],\n",
       "        [False,  True, False,  True, False],\n",
       "        [ True, False,  True, False,  True]]),\n",
       " array([[False,  True, False,  True, False],\n",
       "        [ True, False,  True, False,  True],\n",
       "        [False,  True, False,  True, False],\n",
       "        [ True, False,  True, False,  True],\n",
       "        [False,  True, False,  True, False]]))"
      ]
     },
     "execution_count": 113,
     "metadata": {},
     "output_type": "execute_result"
    }
   ],
   "source": [
    "even_values,odd_values"
   ]
  },
  {
   "cell_type": "code",
   "execution_count": 114,
   "id": "10dc0859-5c71-4409-b922-4d516e1253ba",
   "metadata": {},
   "outputs": [],
   "source": [
    "b = ~(a%10 == 0)"
   ]
  },
  {
   "cell_type": "code",
   "execution_count": 115,
   "id": "58d7b4a2-e7bb-4763-b73f-767bcedeced3",
   "metadata": {},
   "outputs": [
    {
     "data": {
      "text/plain": [
       "array([[False,  True,  True,  True,  True],\n",
       "       [ True,  True,  True,  True,  True],\n",
       "       [False,  True,  True,  True,  True],\n",
       "       [ True,  True,  True,  True,  True],\n",
       "       [False,  True,  True,  True,  True]])"
      ]
     },
     "execution_count": 115,
     "metadata": {},
     "output_type": "execute_result"
    }
   ],
   "source": [
    "b"
   ]
  },
  {
   "cell_type": "code",
   "execution_count": 116,
   "id": "1c8d730d-7587-437e-be7d-5eb12faccd2c",
   "metadata": {},
   "outputs": [],
   "source": [
    "c = (a%2 == 0) | (a%3 == 0)"
   ]
  },
  {
   "cell_type": "code",
   "execution_count": 117,
   "id": "afa95b03-a013-4772-9fd1-2c943a846762",
   "metadata": {},
   "outputs": [
    {
     "data": {
      "text/plain": [
       "array([[ True, False,  True,  True,  True],\n",
       "       [False,  True, False,  True,  True],\n",
       "       [ True, False,  True, False,  True],\n",
       "       [ True,  True, False,  True, False],\n",
       "       [ True,  True,  True, False,  True]])"
      ]
     },
     "execution_count": 117,
     "metadata": {},
     "output_type": "execute_result"
    }
   ],
   "source": [
    "c"
   ]
  },
  {
   "cell_type": "code",
   "execution_count": 119,
   "id": "749a44f4-3c5a-4f25-8108-9e6b540a8bfa",
   "metadata": {},
   "outputs": [],
   "source": [
    "d = (a%2 == 0) & (a%3 == 0)"
   ]
  },
  {
   "cell_type": "code",
   "execution_count": 120,
   "id": "02790fb8-494b-478a-8030-1210c7e78128",
   "metadata": {},
   "outputs": [
    {
     "data": {
      "text/plain": [
       "array([[ True, False, False, False, False],\n",
       "       [False,  True, False, False, False],\n",
       "       [False, False,  True, False, False],\n",
       "       [False, False, False,  True, False],\n",
       "       [False, False, False, False,  True]])"
      ]
     },
     "execution_count": 120,
     "metadata": {},
     "output_type": "execute_result"
    }
   ],
   "source": [
    "d"
   ]
  },
  {
   "cell_type": "markdown",
   "id": "66e4a790-e097-4241-a45f-1c9471659176",
   "metadata": {},
   "source": [
    "----------------------------------MASKING IN NUMPYSS--------------------------------"
   ]
  },
  {
   "cell_type": "markdown",
   "id": "61ad4500-cbc5-4fb7-ac3c-35993fce3c9c",
   "metadata": {},
   "source": [
    "In numpy.ma.mask_rows() function, mask rows of a 2‐Dimensional array which hold\n",
    "masked values. The numpy.ma.mask_rows() function is a shortcut to mask_rowcols\n",
    "with axis equal to 0"
   ]
  },
  {
   "cell_type": "code",
   "execution_count": 121,
   "id": "96c66264-602c-4d26-989f-5c0dfc62bc9d",
   "metadata": {},
   "outputs": [],
   "source": [
    "import numpy as np\n",
    "import numpy.ma as MA ## this is not mandatory"
   ]
  },
  {
   "cell_type": "code",
   "execution_count": 123,
   "id": "9893571f-d8e0-4764-acd8-288453c7ef5c",
   "metadata": {},
   "outputs": [],
   "source": [
    "array = np.zeros((4,4),dtype = int)"
   ]
  },
  {
   "cell_type": "code",
   "execution_count": 124,
   "id": "f40fb566-f4f8-4657-8719-6d2f0d5f595b",
   "metadata": {},
   "outputs": [
    {
     "data": {
      "text/plain": [
       "array([[0, 0, 0, 0],\n",
       "       [0, 0, 0, 0],\n",
       "       [0, 0, 0, 0],\n",
       "       [0, 0, 0, 0]])"
      ]
     },
     "execution_count": 124,
     "metadata": {},
     "output_type": "execute_result"
    }
   ],
   "source": [
    "array"
   ]
  },
  {
   "cell_type": "code",
   "execution_count": 127,
   "id": "06dd5f26-86c9-4d39-a8e7-016b79828b86",
   "metadata": {},
   "outputs": [],
   "source": [
    "array[2,2] = 1"
   ]
  },
  {
   "cell_type": "code",
   "execution_count": 128,
   "id": "51bf3631-4883-4683-9712-fc7a6bb2c012",
   "metadata": {},
   "outputs": [
    {
     "data": {
      "text/plain": [
       "array([[0, 0, 0, 0],\n",
       "       [0, 0, 0, 0],\n",
       "       [0, 0, 1, 0],\n",
       "       [0, 0, 0, 0]])"
      ]
     },
     "execution_count": 128,
     "metadata": {},
     "output_type": "execute_result"
    }
   ],
   "source": [
    "array"
   ]
  },
  {
   "cell_type": "code",
   "execution_count": 129,
   "id": "b0feb1b0-77d1-4fca-bb8f-cf3a235137cd",
   "metadata": {},
   "outputs": [],
   "source": [
    "array = MA.masked_equal(array,1)"
   ]
  },
  {
   "cell_type": "code",
   "execution_count": 130,
   "id": "01e897ed-72c0-4844-869f-f9ba837ca2be",
   "metadata": {},
   "outputs": [
    {
     "data": {
      "text/plain": [
       "masked_array(\n",
       "  data=[[0, 0, 0, 0],\n",
       "        [0, 0, 0, 0],\n",
       "        [0, 0, --, 0],\n",
       "        [0, 0, 0, 0]],\n",
       "  mask=[[False, False, False, False],\n",
       "        [False, False, False, False],\n",
       "        [False, False,  True, False],\n",
       "        [False, False, False, False]],\n",
       "  fill_value=1)"
      ]
     },
     "execution_count": 130,
     "metadata": {},
     "output_type": "execute_result"
    }
   ],
   "source": [
    "array"
   ]
  },
  {
   "cell_type": "code",
   "execution_count": 134,
   "id": "c20a1962-e2ad-4b69-94a0-5f854e00666e",
   "metadata": {},
   "outputs": [],
   "source": [
    "masked_rows = MA.mask_rows(array)"
   ]
  },
  {
   "cell_type": "code",
   "execution_count": 135,
   "id": "674b856d-7f2d-415d-992d-2d79e61a9161",
   "metadata": {},
   "outputs": [
    {
     "data": {
      "text/plain": [
       "masked_array(\n",
       "  data=[[0, 0, 0, 0],\n",
       "        [0, 0, 0, 0],\n",
       "        [--, --, --, --],\n",
       "        [0, 0, 0, 0]],\n",
       "  mask=[[False, False, False, False],\n",
       "        [False, False, False, False],\n",
       "        [ True,  True,  True,  True],\n",
       "        [False, False, False, False]],\n",
       "  fill_value=1)"
      ]
     },
     "execution_count": 135,
     "metadata": {},
     "output_type": "execute_result"
    }
   ],
   "source": [
    "masked_rows"
   ]
  },
  {
   "cell_type": "code",
   "execution_count": 136,
   "id": "5fdf0af4-215d-4e2e-99e4-7bcb501e4d84",
   "metadata": {},
   "outputs": [],
   "source": [
    "masked_rows_cols = MA.mask_rowcols(array)"
   ]
  },
  {
   "cell_type": "code",
   "execution_count": null,
   "id": "3f352aa0-8f39-4a8a-b503-bae73226f02e",
   "metadata": {},
   "outputs": [],
   "source": []
  },
  {
   "cell_type": "code",
   "execution_count": 137,
   "id": "f851566c-4a68-4223-b586-e9e20b8be778",
   "metadata": {},
   "outputs": [
    {
     "data": {
      "text/plain": [
       "masked_array(\n",
       "  data=[[0, 0, --, 0],\n",
       "        [0, 0, --, 0],\n",
       "        [--, --, --, --],\n",
       "        [0, 0, --, 0]],\n",
       "  mask=[[False, False,  True, False],\n",
       "        [False, False,  True, False],\n",
       "        [ True,  True,  True,  True],\n",
       "        [False, False,  True, False]],\n",
       "  fill_value=1)"
      ]
     },
     "execution_count": 137,
     "metadata": {},
     "output_type": "execute_result"
    }
   ],
   "source": [
    "masked_rows_cols"
   ]
  },
  {
   "cell_type": "code",
   "execution_count": 139,
   "id": "5e9773d3-430f-417b-b28d-ed6c44347c37",
   "metadata": {},
   "outputs": [
    {
     "data": {
      "text/plain": [
       "array([[ 1,  9, 21],\n",
       "       [29, 41, 51],\n",
       "       [58, 72,  8]])"
      ]
     },
     "execution_count": 139,
     "metadata": {},
     "output_type": "execute_result"
    }
   ],
   "source": [
    "arr2"
   ]
  },
  {
   "cell_type": "code",
   "execution_count": 140,
   "id": "63c2c985-974f-4d93-8542-f9b96f36efad",
   "metadata": {},
   "outputs": [],
   "source": [
    "arr2 = MA.masked_equal(arr2,58)"
   ]
  },
  {
   "cell_type": "code",
   "execution_count": 141,
   "id": "12534925-b3be-468b-9365-23c7761573de",
   "metadata": {},
   "outputs": [
    {
     "data": {
      "text/plain": [
       "masked_array(\n",
       "  data=[[1, 9, 21],\n",
       "        [29, 41, 51],\n",
       "        [--, 72, 8]],\n",
       "  mask=[[False, False, False],\n",
       "        [False, False, False],\n",
       "        [ True, False, False]],\n",
       "  fill_value=58)"
      ]
     },
     "execution_count": 141,
     "metadata": {},
     "output_type": "execute_result"
    }
   ],
   "source": [
    "arr2"
   ]
  },
  {
   "cell_type": "code",
   "execution_count": 142,
   "id": "5be42622-9531-49b6-9c2a-6281a8c5d058",
   "metadata": {},
   "outputs": [],
   "source": [
    "arr2_rows = MA.mask_rows(arr2)"
   ]
  },
  {
   "cell_type": "code",
   "execution_count": 143,
   "id": "a44bdd94-ace0-40ae-9930-1ae561857d0c",
   "metadata": {},
   "outputs": [
    {
     "data": {
      "text/plain": [
       "masked_array(\n",
       "  data=[[1, 9, 21],\n",
       "        [29, 41, 51],\n",
       "        [--, --, --]],\n",
       "  mask=[[False, False, False],\n",
       "        [False, False, False],\n",
       "        [ True,  True,  True]],\n",
       "  fill_value=58)"
      ]
     },
     "execution_count": 143,
     "metadata": {},
     "output_type": "execute_result"
    }
   ],
   "source": [
    "arr2_rows"
   ]
  },
  {
   "cell_type": "code",
   "execution_count": 144,
   "id": "ae464a89-ba63-4756-b22d-0f2eac5d5a3f",
   "metadata": {},
   "outputs": [],
   "source": [
    "arr2_rows_cols = MA.mask_rowcols(arr2)"
   ]
  },
  {
   "cell_type": "code",
   "execution_count": 145,
   "id": "f169c0f0-6f54-4b60-8c27-527958bb9e52",
   "metadata": {},
   "outputs": [
    {
     "data": {
      "text/plain": [
       "masked_array(\n",
       "  data=[[--, 9, 21],\n",
       "        [--, 41, 51],\n",
       "        [--, --, --]],\n",
       "  mask=[[ True, False, False],\n",
       "        [ True, False, False],\n",
       "        [ True,  True,  True]],\n",
       "  fill_value=58)"
      ]
     },
     "execution_count": 145,
     "metadata": {},
     "output_type": "execute_result"
    }
   ],
   "source": [
    "arr2_rows_cols"
   ]
  },
  {
   "cell_type": "markdown",
   "id": "bc29f95c-9d39-446b-acbe-2f010c2219c2",
   "metadata": {},
   "source": [
    "---------------------------------- FANCY INDEXING --------------------------------"
   ]
  },
  {
   "cell_type": "markdown",
   "id": "459c9910-d84d-451c-82bc-9446c79ff8a4",
   "metadata": {},
   "source": [
    "• Fancy indexing is like the simple indexing, but we pass arrays of indices instead of single scalars\n",
    "• It permits us to quickly access as well as change complicated subsets of an array's values"
   ]
  },
  {
   "cell_type": "markdown",
   "id": "0dc88171-bbfc-4e36-b6d7-7996b5a4344e",
   "metadata": {},
   "source": [
    "Exploring Fancy Indexing\n",
    "\n",
    "• Fancy indexing is conceptually simple which means passing an array of indices in order to access multiple array elements at one time\n",
    "\n",
    "• For instance, consider the below‐written array:"
   ]
  },
  {
   "cell_type": "code",
   "execution_count": 148,
   "id": "a8aa4673-5207-42f2-b9c4-bb51980729c4",
   "metadata": {},
   "outputs": [],
   "source": [
    "x = np.random.randint(100,size = 10)"
   ]
  },
  {
   "cell_type": "code",
   "execution_count": 149,
   "id": "11ad2481-8cd3-4baa-a83b-7430840ff20f",
   "metadata": {},
   "outputs": [
    {
     "data": {
      "text/plain": [
       "array([ 6,  2, 24, 45, 76, 98,  9, 85, 19, 38])"
      ]
     },
     "execution_count": 149,
     "metadata": {},
     "output_type": "execute_result"
    }
   ],
   "source": [
    "x"
   ]
  },
  {
   "cell_type": "markdown",
   "id": "8c7a2f4e-a566-425a-96fd-a1fe91824680",
   "metadata": {},
   "source": [
    "• Let us suppose, we want to access three different elements\n",
    "         [x[3],x[7],x[2]]"
   ]
  },
  {
   "cell_type": "code",
   "execution_count": 150,
   "id": "3149b459-5a3b-414d-82b1-5c9853cc278f",
   "metadata": {},
   "outputs": [
    {
     "data": {
      "text/plain": [
       "[45, 85, 24]"
      ]
     },
     "execution_count": 150,
     "metadata": {},
     "output_type": "execute_result"
    }
   ],
   "source": [
    " [x[3],x[7],x[2]]"
   ]
  },
  {
   "cell_type": "markdown",
   "id": "4d5d686c-94c7-45fa-a66c-5176b998c758",
   "metadata": {},
   "source": [
    "On the other hand, we can pass an array of indices or a single list for getting the same result:"
   ]
  },
  {
   "cell_type": "code",
   "execution_count": 152,
   "id": "343cca09-430e-4e8a-8cad-0cbba16f1233",
   "metadata": {},
   "outputs": [
    {
     "data": {
      "text/plain": [
       "array([45, 85, 76])"
      ]
     },
     "execution_count": 152,
     "metadata": {},
     "output_type": "execute_result"
    }
   ],
   "source": [
    "ind1 = [3,7,4]\n",
    "x[ind1]"
   ]
  },
  {
   "cell_type": "markdown",
   "id": "0bd4a5e5-14f0-4a78-baf1-4f6025bc26f0",
   "metadata": {},
   "source": [
    "• While utilising fancy indexing, the shape of the result reflects the shape of the index varrays instead of the shape of the array being indexed:"
   ]
  },
  {
   "cell_type": "code",
   "execution_count": 153,
   "id": "9363e718-02e2-4f55-93a9-1afca6179475",
   "metadata": {},
   "outputs": [
    {
     "data": {
      "text/plain": [
       "array([[45, 85],\n",
       "       [76, 98]])"
      ]
     },
     "execution_count": 153,
     "metadata": {},
     "output_type": "execute_result"
    }
   ],
   "source": [
    "ind2 = np.array([[3,7],[4,5]])\n",
    "x[ind2]"
   ]
  },
  {
   "cell_type": "markdown",
   "id": "edef39d4-a12d-4097-9dec-f9c35130d306",
   "metadata": {},
   "source": [
    "• Even fancy indexing works in multiple dimensions. See the example shown below:"
   ]
  },
  {
   "cell_type": "code",
   "execution_count": 159,
   "id": "a0849b94-2d31-49de-ac68-2d77ec15c978",
   "metadata": {},
   "outputs": [],
   "source": [
    "y = np.arange(12).reshape((3,4))"
   ]
  },
  {
   "cell_type": "code",
   "execution_count": 160,
   "id": "2249e85d-c5fb-425d-b0e7-e4d204b3dc34",
   "metadata": {},
   "outputs": [
    {
     "data": {
      "text/plain": [
       "array([[ 0,  1,  2,  3],\n",
       "       [ 4,  5,  6,  7],\n",
       "       [ 8,  9, 10, 11]])"
      ]
     },
     "execution_count": 160,
     "metadata": {},
     "output_type": "execute_result"
    }
   ],
   "source": [
    "y"
   ]
  },
  {
   "cell_type": "markdown",
   "id": "d8e3839c-525f-479c-a62e-83b4fe4ae204",
   "metadata": {},
   "source": [
    "The first index refers to the row, and the second to the column Like with standard\n",
    "indexing:"
   ]
  },
  {
   "cell_type": "code",
   "execution_count": 161,
   "id": "f0b75898-86c7-45c1-bbfe-195b506b236d",
   "metadata": {},
   "outputs": [
    {
     "data": {
      "text/plain": [
       "array([ 2,  5, 11])"
      ]
     },
     "execution_count": 161,
     "metadata": {},
     "output_type": "execute_result"
    }
   ],
   "source": [
    "row = np.array([0,1,2])\n",
    "col = np.array([2,1,3])\n",
    "y[row,col]"
   ]
  },
  {
   "cell_type": "markdown",
   "id": "3c0eee94-c04a-49a1-b116-4f48505ebe4e",
   "metadata": {},
   "source": [
    "• The broadcasting rules are followed by the pairing of indices in fancy indexing.\n",
    "\n",
    "Therefore, for instance, we get a two‐dimensional result if we combine a column vector\n",
    "as well as a row vector within the indices:"
   ]
  },
  {
   "cell_type": "code",
   "execution_count": 163,
   "id": "677e4433-6e99-4c5f-8124-7cf96a4f16b1",
   "metadata": {},
   "outputs": [
    {
     "data": {
      "text/plain": [
       "array([[ 0,  1,  2,  3],\n",
       "       [ 4,  5,  6,  7],\n",
       "       [ 8,  9, 10, 11]])"
      ]
     },
     "execution_count": 163,
     "metadata": {},
     "output_type": "execute_result"
    }
   ],
   "source": [
    "y"
   ]
  },
  {
   "cell_type": "code",
   "execution_count": 162,
   "id": "709bf698-3ef4-4b38-ae46-6634692d4aaa",
   "metadata": {},
   "outputs": [
    {
     "data": {
      "text/plain": [
       "array([[ 2,  1,  3],\n",
       "       [ 6,  5,  7],\n",
       "       [10,  9, 11]])"
      ]
     },
     "execution_count": 162,
     "metadata": {},
     "output_type": "execute_result"
    }
   ],
   "source": [
    "y[row[:,np.newaxis],col]"
   ]
  },
  {
   "cell_type": "markdown",
   "id": "a182be9b-4d88-4f82-ae94-abf4b27ec196",
   "metadata": {},
   "source": [
    "• It is always necessary to memorise with fancy indexing that the broadcasted shape of\n",
    "the indices is reflected by the return value, instead of the shape of the array being\n",
    "indexed"
   ]
  },
  {
   "cell_type": "markdown",
   "id": "9992d911-2dae-49c4-b34c-7d7a99e42c90",
   "metadata": {},
   "source": [
    "Combined Indexing\n",
    "\n",
    "• Fancy indexing can be combined with the other indexing schemes for more powerful\n",
    "operations:\n",
    "\n",
    "• We can combine fancy indexing with slicing as well:\n",
    "\n",
    "• Even, fancy indexing can be combined with masking:\n",
    "\n",
    "• All of these indexing options combined lead to a very flexible group of operations for accessing as well as modifying array values"
   ]
  },
  {
   "cell_type": "code",
   "execution_count": 165,
   "id": "44d89ed8-a23b-49db-89ec-9135a559d69c",
   "metadata": {},
   "outputs": [
    {
     "data": {
      "text/plain": [
       "array([[ 0,  1,  2,  3],\n",
       "       [ 4,  5,  6,  7],\n",
       "       [ 8,  9, 10, 11]])"
      ]
     },
     "execution_count": 165,
     "metadata": {},
     "output_type": "execute_result"
    }
   ],
   "source": [
    "y"
   ]
  },
  {
   "cell_type": "code",
   "execution_count": 166,
   "id": "39fe57f2-9414-4cc3-a4c2-979de5e8319d",
   "metadata": {},
   "outputs": [
    {
     "data": {
      "text/plain": [
       "array([10,  8, 11])"
      ]
     },
     "execution_count": 166,
     "metadata": {},
     "output_type": "execute_result"
    }
   ],
   "source": [
    "y[2,[2,0,3]]"
   ]
  },
  {
   "cell_type": "code",
   "execution_count": 168,
   "id": "1c480286-6eb2-4fbe-a843-005767f1a924",
   "metadata": {},
   "outputs": [
    {
     "data": {
      "text/plain": [
       "array([[ 6,  4,  7],\n",
       "       [10,  8, 11]])"
      ]
     },
     "execution_count": 168,
     "metadata": {},
     "output_type": "execute_result"
    }
   ],
   "source": [
    "y[1:,[2,0,3]]"
   ]
  },
  {
   "cell_type": "code",
   "execution_count": 181,
   "id": "ce859686-6c93-43bc-b6d5-7d23990ac923",
   "metadata": {},
   "outputs": [],
   "source": [
    "mask = np.array([0,0,1,0],dtype = bool)"
   ]
  },
  {
   "cell_type": "code",
   "execution_count": 182,
   "id": "264456bd-bc2f-4173-b465-68f1321aebdb",
   "metadata": {},
   "outputs": [
    {
     "data": {
      "text/plain": [
       "array([False, False,  True, False])"
      ]
     },
     "execution_count": 182,
     "metadata": {},
     "output_type": "execute_result"
    }
   ],
   "source": [
    "mask"
   ]
  },
  {
   "cell_type": "code",
   "execution_count": 183,
   "id": "9801a95e-bcba-4060-a30b-afc9743180ef",
   "metadata": {},
   "outputs": [
    {
     "data": {
      "text/plain": [
       "array([[ 0,  1,  2,  3],\n",
       "       [ 4,  5,  6,  7],\n",
       "       [ 8,  9, 10, 11]])"
      ]
     },
     "execution_count": 183,
     "metadata": {},
     "output_type": "execute_result"
    }
   ],
   "source": [
    "y"
   ]
  },
  {
   "cell_type": "code",
   "execution_count": 184,
   "id": "c787386f-bc44-45bb-a221-0df429ca900b",
   "metadata": {},
   "outputs": [
    {
     "data": {
      "text/plain": [
       "array([[ 2],\n",
       "       [ 6],\n",
       "       [10]])"
      ]
     },
     "execution_count": 184,
     "metadata": {},
     "output_type": "execute_result"
    }
   ],
   "source": [
    "y[row[:,np.newaxis],mask]"
   ]
  },
  {
   "cell_type": "markdown",
   "id": "c45e7c3b-bbaf-431b-acd1-8c01f8084bd3",
   "metadata": {},
   "source": [
    "Modifying Values with Fancy Indexing\n",
    "\n",
    "• Fancy indexing can be used for accessing parts of an array. Moreover, it can modify parts of an array as well. For instance, assume we have an array of indices, and we want to set similar items in an array to some value:\n",
    "\n",
    "•"
   ]
  },
  {
   "cell_type": "code",
   "execution_count": 187,
   "id": "cbba712d-b748-4f15-89e3-32ecf6d6228b",
   "metadata": {},
   "outputs": [
    {
     "name": "stdout",
     "output_type": "stream",
     "text": [
      "[ 0 -9 -8  3 -6  5  6  7 -2  9]\n"
     ]
    }
   ],
   "source": [
    "a = np.arange(10)\n",
    "i = np.array([2,1,8,4])\n",
    "##a[i] = 99\n",
    "a[i] -= 10\n",
    "print(a)"
   ]
  },
  {
   "cell_type": "markdown",
   "id": "6c172484-2b36-4098-86a0-1d29f317e321",
   "metadata": {},
   "source": [
    "Notice that, repeated indices with these operations can cause some potentially\n",
    "unexpected outcomes\n",
    "\n",
    "The outcome of this operation is to first assign A[0] = 8, followed by A[0] = 23. The result is that A[0] contains the value 23"
   ]
  },
  {
   "cell_type": "code",
   "execution_count": 189,
   "id": "61f807af-f535-4812-b5fd-c2926c945fb2",
   "metadata": {},
   "outputs": [
    {
     "name": "stdout",
     "output_type": "stream",
     "text": [
      "[23.  0.  0.  0.  0.  0.  0.  0.  0.  0.]\n"
     ]
    }
   ],
   "source": [
    "a = np.zeros(10)\n",
    "a[[0,0]] = [8,23]\n",
    "print(a)"
   ]
  },
  {
   "cell_type": "code",
   "execution_count": 193,
   "id": "ade5a625-b6c6-41b1-982b-97061f19e5b5",
   "metadata": {},
   "outputs": [],
   "source": [
    "array_num = np.array([5,7,2,8])"
   ]
  },
  {
   "cell_type": "code",
   "execution_count": 194,
   "id": "026d3728-78b6-42db-919d-c5d1465c311d",
   "metadata": {},
   "outputs": [
    {
     "name": "stdout",
     "output_type": "stream",
     "text": [
      "[2 5 7 8]\n"
     ]
    }
   ],
   "source": [
    "print(np.sort(array_num))"
   ]
  },
  {
   "cell_type": "code",
   "execution_count": 197,
   "id": "b570cfc8-0c38-4fa8-8cca-d94ce91e38e4",
   "metadata": {},
   "outputs": [],
   "source": [
    "array_name = np.array(['pine-apple','banana','fig'])"
   ]
  },
  {
   "cell_type": "code",
   "execution_count": 202,
   "id": "0f4d77e7-96ef-466d-b12e-794b78c26295",
   "metadata": {},
   "outputs": [
    {
     "name": "stdout",
     "output_type": "stream",
     "text": [
      "['banana' 'fig' 'pine-apple']\n"
     ]
    }
   ],
   "source": [
    "print(np.sort(array_name))"
   ]
  },
  {
   "cell_type": "code",
   "execution_count": 199,
   "id": "9c50651f-7374-47b9-b075-9d8ebfbb6cf1",
   "metadata": {},
   "outputs": [],
   "source": [
    "array_bool = np.array([False,True,False])"
   ]
  },
  {
   "cell_type": "code",
   "execution_count": 200,
   "id": "74889fc8-cf46-424c-84a0-af4bd51570b9",
   "metadata": {},
   "outputs": [
    {
     "name": "stdout",
     "output_type": "stream",
     "text": [
      "[False False  True]\n"
     ]
    }
   ],
   "source": [
    "print(np.sort(array_bool))"
   ]
  },
  {
   "cell_type": "code",
   "execution_count": 204,
   "id": "c7caed2a-ea46-49b5-a031-a7121d788c0f",
   "metadata": {},
   "outputs": [],
   "source": [
    "array_sort_2d = np.array([[5,0,1],[9,3,6]])"
   ]
  },
  {
   "cell_type": "code",
   "execution_count": 205,
   "id": "f51bc3d0-2fd9-4691-aeec-a70cc994f29e",
   "metadata": {},
   "outputs": [
    {
     "name": "stdout",
     "output_type": "stream",
     "text": [
      "[[0 1 5]\n",
      " [3 6 9]]\n"
     ]
    }
   ],
   "source": [
    "print(np.sort(array_sort_2d))"
   ]
  },
  {
   "cell_type": "markdown",
   "id": "1bad5d14-301a-4b50-a0d0-bbdf63d934e9",
   "metadata": {},
   "source": [
    "----------------------NumPy’s Structured Array-----------------------"
   ]
  },
  {
   "cell_type": "markdown",
   "id": "0e486cbb-f94f-4875-aa9f-ec250e9b0465",
   "metadata": {},
   "source": [
    "• Numpy’s Structured Array is similar to Struct in C programming language. It is used in\n",
    "order to group data of different sizes and types\n",
    "\n",
    "• Data containers named as fields are used by the structure array. Every data field can\n",
    "contain data of any size and type. With the help of dot notation, array elements can be\n",
    "accessed"
   ]
  },
  {
   "cell_type": "markdown",
   "id": "2ed9552d-a325-468a-b078-991c9d5ede3f",
   "metadata": {},
   "source": [
    "Structured Array Properties\n",
    "\n",
    "• All structs in the array have the similar number of fields\n",
    "\n",
    "• All structs have same fields names\n",
    "\n",
    "• For instance, consider a student's structured array with different fields such as year,name, and marks\n",
    "\n",
    "• Every record in array student has a structure of class Struct. Moreover, the array of a  structure is referred to as struct as adding any new fields for a new struct in the array, contains the empty array"
   ]
  },
  {
   "cell_type": "code",
   "execution_count": 207,
   "id": "b831eb54-72ed-4963-804c-1747a159ce41",
   "metadata": {},
   "outputs": [],
   "source": [
    "import numpy as np"
   ]
  },
  {
   "cell_type": "code",
   "execution_count": 229,
   "id": "d5c49aee-3975-4efd-8cc8-d7d68f01693d",
   "metadata": {},
   "outputs": [],
   "source": [
    "a1 = np.array([('Anand',2022,8.88),('Anil',2021,9.88) ,('Shubham',2020,8.90)],\n",
    "              dtype = [('name',(np.str_,10)),('year',np.int32),('cgpa',np.float64)])"
   ]
  },
  {
   "cell_type": "code",
   "execution_count": 230,
   "id": "349a99da-fdd0-4f1d-9085-1ce76de80b9e",
   "metadata": {},
   "outputs": [
    {
     "name": "stdout",
     "output_type": "stream",
     "text": [
      "[('Anand', 2022, 8.88) ('Anil', 2021, 9.88) ('Shubham', 2020, 8.9 )]\n"
     ]
    }
   ],
   "source": [
    "print(a1)"
   ]
  },
  {
   "cell_type": "code",
   "execution_count": 231,
   "id": "c91dc14c-12db-4f0d-8ce9-b52f794eadd0",
   "metadata": {},
   "outputs": [
    {
     "data": {
      "text/plain": [
       "'Anand'"
      ]
     },
     "execution_count": 231,
     "metadata": {},
     "output_type": "execute_result"
    }
   ],
   "source": [
    "a1[0][0]"
   ]
  },
  {
   "cell_type": "code",
   "execution_count": 236,
   "id": "e0ac1026-c462-4e60-9e5d-e82a2d32d8c7",
   "metadata": {},
   "outputs": [
    {
     "data": {
      "text/plain": [
       "array([], dtype=[('name', '<U10'), ('year', '<i4'), ('cgpa', '<f8')])"
      ]
     },
     "execution_count": 236,
     "metadata": {},
     "output_type": "execute_result"
    }
   ],
   "source": [
    "a1[a1['name']=='shubham']"
   ]
  },
  {
   "cell_type": "code",
   "execution_count": null,
   "id": "f3304295-0989-43e2-908b-50926af5cb5e",
   "metadata": {},
   "outputs": [],
   "source": []
  },
  {
   "cell_type": "code",
   "execution_count": 232,
   "id": "207eb380-a5b9-4631-bc63-126576827b3c",
   "metadata": {},
   "outputs": [
    {
     "data": {
      "text/plain": [
       "array([False, False,  True])"
      ]
     },
     "execution_count": 232,
     "metadata": {},
     "output_type": "execute_result"
    }
   ],
   "source": [
    "a1['name'] == 'Shubham'"
   ]
  },
  {
   "cell_type": "code",
   "execution_count": 228,
   "id": "0cf82333-5c24-49a3-939b-3873b742a7f0",
   "metadata": {},
   "outputs": [
    {
     "data": {
      "text/plain": [
       "array([('Shubham', 2022, 8.88), ('Shubham', 2021, 9.88),\n",
       "       ('Shubham', 2020, 8.9 )],\n",
       "      dtype=[('name', '<U10'), ('year', '<i4'), ('cgpa', '<f8')])"
      ]
     },
     "execution_count": 228,
     "metadata": {},
     "output_type": "execute_result"
    }
   ],
   "source": [
    "a1[a1['name']=='Shubham']"
   ]
  },
  {
   "cell_type": "code",
   "execution_count": 210,
   "id": "8cc3fc52-3f75-4ca2-b2fd-cf0449f7e146",
   "metadata": {},
   "outputs": [],
   "source": [
    "b = np.sort(a1,order='name')"
   ]
  },
  {
   "cell_type": "code",
   "execution_count": 211,
   "id": "b5c30cef-3386-4f5e-9e1c-923cef46b9cd",
   "metadata": {},
   "outputs": [
    {
     "data": {
      "text/plain": [
       "array([('Anand', 2022, 8.88), ('Anil', 2021, 9.88),\n",
       "       ('Shubham', 2020, 8.9 )],\n",
       "      dtype=[('name', '<U10'), ('year', '<i4'), ('cgpa', '<f8')])"
      ]
     },
     "execution_count": 211,
     "metadata": {},
     "output_type": "execute_result"
    }
   ],
   "source": [
    "b"
   ]
  },
  {
   "cell_type": "code",
   "execution_count": 213,
   "id": "fef1aa75-6dcb-4c95-8374-11650000fd3d",
   "metadata": {},
   "outputs": [
    {
     "data": {
      "text/plain": [
       "array([('Shubham', 2020, 8.9 ), ('Anil', 2021, 9.88),\n",
       "       ('Anand', 2022, 8.88)],\n",
       "      dtype=[('name', '<U10'), ('year', '<i4'), ('cgpa', '<f8')])"
      ]
     },
     "execution_count": 213,
     "metadata": {},
     "output_type": "execute_result"
    }
   ],
   "source": [
    "c = np.sort(a1,order='year')\n",
    "c"
   ]
  },
  {
   "cell_type": "code",
   "execution_count": 214,
   "id": "525de2e5-fb11-4ba2-b5ea-60881fcd7c40",
   "metadata": {},
   "outputs": [
    {
     "data": {
      "text/plain": [
       "array([('Anand', 2022, 8.88), ('Shubham', 2020, 8.9 ),\n",
       "       ('Anil', 2021, 9.88)],\n",
       "      dtype=[('name', '<U10'), ('year', '<i4'), ('cgpa', '<f8')])"
      ]
     },
     "execution_count": 214,
     "metadata": {},
     "output_type": "execute_result"
    }
   ],
   "source": [
    "d = np.sort(a1,order='cgpa')\n",
    "d"
   ]
  },
  {
   "cell_type": "code",
   "execution_count": 235,
   "id": "d450c313-79be-4d1c-a790-37fb5b0f2a56",
   "metadata": {},
   "outputs": [
    {
     "ename": "AttributeError",
     "evalue": "'numpy.ndarray' object has no attribute 'name'",
     "output_type": "error",
     "traceback": [
      "\u001b[0;31m---------------------------------------------------------------------------\u001b[0m",
      "\u001b[0;31mAttributeError\u001b[0m                            Traceback (most recent call last)",
      "Cell \u001b[0;32mIn [235], line 1\u001b[0m\n\u001b[0;32m----> 1\u001b[0m names \u001b[38;5;241m=\u001b[39m \u001b[43ma1\u001b[49m\u001b[38;5;241;43m.\u001b[39;49m\u001b[43mname\u001b[49m\n",
      "\u001b[0;31mAttributeError\u001b[0m: 'numpy.ndarray' object has no attribute 'name'"
     ]
    }
   ],
   "source": [
    "names = a1.name"
   ]
  },
  {
   "cell_type": "code",
   "execution_count": null,
   "id": "0fc22f4d-cead-486f-b155-5cee471e47a2",
   "metadata": {},
   "outputs": [],
   "source": []
  }
 ],
 "metadata": {
  "kernelspec": {
   "display_name": "Python 3 (ipykernel)",
   "language": "python",
   "name": "python3"
  },
  "language_info": {
   "codemirror_mode": {
    "name": "ipython",
    "version": 3
   },
   "file_extension": ".py",
   "mimetype": "text/x-python",
   "name": "python",
   "nbconvert_exporter": "python",
   "pygments_lexer": "ipython3",
   "version": "3.10.6"
  }
 },
 "nbformat": 4,
 "nbformat_minor": 5
}
